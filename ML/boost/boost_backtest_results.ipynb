{
 "cells": [
  {
   "cell_type": "code",
   "execution_count": 1,
   "metadata": {},
   "outputs": [
    {
     "name": "stdout",
     "output_type": "stream",
     "text": [
      "Loaded model from ../models/boost/xgboost_JNJ_new.joblib\n",
      "Data columns after shifting target: ['HT_DCPERIOD', 'MEDPRICE', 'HT_DCPHASE', 'MACD_signal', 'HT_TRENDMODE', 'STOCH_fastd', 'AROON_UP', 'HT_SINE', 'MINUS_DM', 'HT_PHASOR_quadrature', 'BB_middle', 'NATR', 'ADXR', 'TYPPRICE', 'MIDPRICE', 'RSI', 'BB_lower', 'AROONOSC', 'AROON_DOWN', 'ADOSC', 'DEMA', 'PLUS_DM', 'CMO', 'AVGPRICE', 'MOM', 'ROC', 'STOCH_slowk', 'TRIMA', 'T3', 'MIDPOINT', 'SMA', 'CCI', 'STOCH_fastk', 'Price_Change', 'Target', 'Close']\n",
      "Data shape after shifting target and dropna: (499, 36)\n"
     ]
    },
    {
     "ename": "ValueError",
     "evalue": "feature_names mismatch: ['HT_DCPERIOD', 'ADXR', 'BB_middle', 'STOCH_slowk', 'OBV', 'APO', 'STOCH_fastk', 'NATR', 'STOCH_slowd', 'HT_TRENDMODE', 'HT_DCPHASE', 'MINUS_DM'] ['HT_DCPERIOD', 'MEDPRICE', 'HT_DCPHASE', 'MACD_signal', 'HT_TRENDMODE', 'STOCH_fastd', 'AROON_UP', 'HT_SINE', 'MINUS_DM', 'HT_PHASOR_quadrature', 'BB_middle', 'NATR', 'ADXR', 'TYPPRICE', 'MIDPRICE', 'RSI', 'BB_lower', 'AROONOSC', 'AROON_DOWN', 'ADOSC', 'DEMA', 'PLUS_DM', 'CMO', 'AVGPRICE', 'MOM', 'ROC', 'STOCH_slowk', 'TRIMA', 'T3', 'MIDPOINT', 'SMA', 'CCI', 'STOCH_fastk']\nexpected OBV, STOCH_slowd, APO in input data\ntraining data did not have the following fields: CCI, PLUS_DM, BB_lower, TYPPRICE, MOM, AROON_DOWN, T3, HT_PHASOR_quadrature, STOCH_fastd, HT_SINE, ROC, AROONOSC, MACD_signal, RSI, CMO, MIDPRICE, MIDPOINT, DEMA, AROON_UP, SMA, AVGPRICE, ADOSC, MEDPRICE, TRIMA",
     "output_type": "error",
     "traceback": [
      "\u001b[0;31m---------------------------------------------------------------------------\u001b[0m",
      "\u001b[0;31mValueError\u001b[0m                                Traceback (most recent call last)",
      "\u001b[1;32m/Users/adrianpawlowski/Documents/AITradingPlatform/ML/boost/boost_backtest_results.ipynb Cell 1\u001b[0m line \u001b[0;36m4\n\u001b[1;32m     <a href='vscode-notebook-cell:/Users/adrianpawlowski/Documents/AITradingPlatform/ML/boost/boost_backtest_results.ipynb#W0sZmlsZQ%3D%3D?line=43'>44</a>\u001b[0m \u001b[39mfor\u001b[39;00m ticker \u001b[39min\u001b[39;00m tickers:\n\u001b[1;32m     <a href='vscode-notebook-cell:/Users/adrianpawlowski/Documents/AITradingPlatform/ML/boost/boost_backtest_results.ipynb#W0sZmlsZQ%3D%3D?line=44'>45</a>\u001b[0m     best_features \u001b[39m=\u001b[39m best_features_dict[ticker]\n\u001b[0;32m---> <a href='vscode-notebook-cell:/Users/adrianpawlowski/Documents/AITradingPlatform/ML/boost/boost_backtest_results.ipynb#W0sZmlsZQ%3D%3D?line=46'>47</a>\u001b[0m     backtest_metrics \u001b[39m=\u001b[39m backtest_xgboost(\n\u001b[1;32m     <a href='vscode-notebook-cell:/Users/adrianpawlowski/Documents/AITradingPlatform/ML/boost/boost_backtest_results.ipynb#W0sZmlsZQ%3D%3D?line=47'>48</a>\u001b[0m         ticker\u001b[39m=\u001b[39;49mticker,\n\u001b[1;32m     <a href='vscode-notebook-cell:/Users/adrianpawlowski/Documents/AITradingPlatform/ML/boost/boost_backtest_results.ipynb#W0sZmlsZQ%3D%3D?line=48'>49</a>\u001b[0m         start_date\u001b[39m=\u001b[39;49mstart_date,\n\u001b[1;32m     <a href='vscode-notebook-cell:/Users/adrianpawlowski/Documents/AITradingPlatform/ML/boost/boost_backtest_results.ipynb#W0sZmlsZQ%3D%3D?line=49'>50</a>\u001b[0m         end_date\u001b[39m=\u001b[39;49mend_date,\n\u001b[1;32m     <a href='vscode-notebook-cell:/Users/adrianpawlowski/Documents/AITradingPlatform/ML/boost/boost_backtest_results.ipynb#W0sZmlsZQ%3D%3D?line=50'>51</a>\u001b[0m         feature_subset\u001b[39m=\u001b[39;49mbest_features\n\u001b[1;32m     <a href='vscode-notebook-cell:/Users/adrianpawlowski/Documents/AITradingPlatform/ML/boost/boost_backtest_results.ipynb#W0sZmlsZQ%3D%3D?line=51'>52</a>\u001b[0m     )\n\u001b[1;32m     <a href='vscode-notebook-cell:/Users/adrianpawlowski/Documents/AITradingPlatform/ML/boost/boost_backtest_results.ipynb#W0sZmlsZQ%3D%3D?line=53'>54</a>\u001b[0m     \u001b[39m# Save metrics into our dictionary\u001b[39;00m\n\u001b[1;32m     <a href='vscode-notebook-cell:/Users/adrianpawlowski/Documents/AITradingPlatform/ML/boost/boost_backtest_results.ipynb#W0sZmlsZQ%3D%3D?line=54'>55</a>\u001b[0m     results_dict[ticker] \u001b[39m=\u001b[39m backtest_metrics\n",
      "File \u001b[0;32m~/Documents/AITradingPlatform/ML/boost/backtest_boost.py:78\u001b[0m, in \u001b[0;36mbacktest_xgboost\u001b[0;34m(ticker, start_date, end_date, feature_subset)\u001b[0m\n\u001b[1;32m     73\u001b[0m close_prices \u001b[39m=\u001b[39m data[\u001b[39m'\u001b[39m\u001b[39mClose\u001b[39m\u001b[39m'\u001b[39m]  \u001b[39m# for P/L calculation\u001b[39;00m\n\u001b[1;32m     75\u001b[0m \u001b[39m# -------------------------------------------------------------\u001b[39;00m\n\u001b[1;32m     76\u001b[0m \u001b[39m# 5. Predict with the model (labels and probabilities)\u001b[39;00m\n\u001b[1;32m     77\u001b[0m \u001b[39m# -------------------------------------------------------------\u001b[39;00m\n\u001b[0;32m---> 78\u001b[0m y_pred \u001b[39m=\u001b[39m model\u001b[39m.\u001b[39;49mpredict(X_test)\n\u001b[1;32m     79\u001b[0m y_pred_proba \u001b[39m=\u001b[39m model\u001b[39m.\u001b[39mpredict_proba(X_test)[:, \u001b[39m1\u001b[39m]\n\u001b[1;32m     81\u001b[0m \u001b[39m# ----------------------------\u001b[39;00m\n\u001b[1;32m     82\u001b[0m \u001b[39m# 6. Calculate classification metrics\u001b[39;00m\n\u001b[1;32m     83\u001b[0m \u001b[39m# ----------------------------\u001b[39;00m\n",
      "File \u001b[0;32m/opt/anaconda3/envs/ml-trading-platform/lib/python3.9/site-packages/xgboost/sklearn.py:1565\u001b[0m, in \u001b[0;36mXGBClassifier.predict\u001b[0;34m(self, X, output_margin, validate_features, base_margin, iteration_range)\u001b[0m\n\u001b[1;32m   1556\u001b[0m \u001b[39mdef\u001b[39;00m \u001b[39mpredict\u001b[39m(\n\u001b[1;32m   1557\u001b[0m     \u001b[39mself\u001b[39m,\n\u001b[1;32m   1558\u001b[0m     X: ArrayLike,\n\u001b[0;32m   (...)\u001b[0m\n\u001b[1;32m   1562\u001b[0m     iteration_range: Optional[IterationRange] \u001b[39m=\u001b[39m \u001b[39mNone\u001b[39;00m,\n\u001b[1;32m   1563\u001b[0m ) \u001b[39m-\u001b[39m\u001b[39m>\u001b[39m ArrayLike:\n\u001b[1;32m   1564\u001b[0m     \u001b[39mwith\u001b[39;00m config_context(verbosity\u001b[39m=\u001b[39m\u001b[39mself\u001b[39m\u001b[39m.\u001b[39mverbosity):\n\u001b[0;32m-> 1565\u001b[0m         class_probs \u001b[39m=\u001b[39m \u001b[39msuper\u001b[39;49m()\u001b[39m.\u001b[39;49mpredict(\n\u001b[1;32m   1566\u001b[0m             X\u001b[39m=\u001b[39;49mX,\n\u001b[1;32m   1567\u001b[0m             output_margin\u001b[39m=\u001b[39;49moutput_margin,\n\u001b[1;32m   1568\u001b[0m             validate_features\u001b[39m=\u001b[39;49mvalidate_features,\n\u001b[1;32m   1569\u001b[0m             base_margin\u001b[39m=\u001b[39;49mbase_margin,\n\u001b[1;32m   1570\u001b[0m             iteration_range\u001b[39m=\u001b[39;49miteration_range,\n\u001b[1;32m   1571\u001b[0m         )\n\u001b[1;32m   1572\u001b[0m         \u001b[39mif\u001b[39;00m output_margin:\n\u001b[1;32m   1573\u001b[0m             \u001b[39m# If output_margin is active, simply return the scores\u001b[39;00m\n\u001b[1;32m   1574\u001b[0m             \u001b[39mreturn\u001b[39;00m class_probs\n",
      "File \u001b[0;32m/opt/anaconda3/envs/ml-trading-platform/lib/python3.9/site-packages/xgboost/sklearn.py:1186\u001b[0m, in \u001b[0;36mXGBModel.predict\u001b[0;34m(self, X, output_margin, validate_features, base_margin, iteration_range)\u001b[0m\n\u001b[1;32m   1184\u001b[0m \u001b[39mif\u001b[39;00m \u001b[39mself\u001b[39m\u001b[39m.\u001b[39m_can_use_inplace_predict():\n\u001b[1;32m   1185\u001b[0m     \u001b[39mtry\u001b[39;00m:\n\u001b[0;32m-> 1186\u001b[0m         predts \u001b[39m=\u001b[39m \u001b[39mself\u001b[39;49m\u001b[39m.\u001b[39;49mget_booster()\u001b[39m.\u001b[39;49minplace_predict(\n\u001b[1;32m   1187\u001b[0m             data\u001b[39m=\u001b[39;49mX,\n\u001b[1;32m   1188\u001b[0m             iteration_range\u001b[39m=\u001b[39;49miteration_range,\n\u001b[1;32m   1189\u001b[0m             predict_type\u001b[39m=\u001b[39;49m\u001b[39m\"\u001b[39;49m\u001b[39mmargin\u001b[39;49m\u001b[39m\"\u001b[39;49m \u001b[39mif\u001b[39;49;00m output_margin \u001b[39melse\u001b[39;49;00m \u001b[39m\"\u001b[39;49m\u001b[39mvalue\u001b[39;49m\u001b[39m\"\u001b[39;49m,\n\u001b[1;32m   1190\u001b[0m             missing\u001b[39m=\u001b[39;49m\u001b[39mself\u001b[39;49m\u001b[39m.\u001b[39;49mmissing,\n\u001b[1;32m   1191\u001b[0m             base_margin\u001b[39m=\u001b[39;49mbase_margin,\n\u001b[1;32m   1192\u001b[0m             validate_features\u001b[39m=\u001b[39;49mvalidate_features,\n\u001b[1;32m   1193\u001b[0m         )\n\u001b[1;32m   1194\u001b[0m         \u001b[39mif\u001b[39;00m _is_cupy_alike(predts):\n\u001b[1;32m   1195\u001b[0m             \u001b[39mimport\u001b[39;00m \u001b[39mcupy\u001b[39;00m  \u001b[39m# pylint: disable=import-error\u001b[39;00m\n",
      "File \u001b[0;32m/opt/anaconda3/envs/ml-trading-platform/lib/python3.9/site-packages/xgboost/core.py:2510\u001b[0m, in \u001b[0;36mBooster.inplace_predict\u001b[0;34m(self, data, iteration_range, predict_type, missing, validate_features, base_margin, strict_shape)\u001b[0m\n\u001b[1;32m   2508\u001b[0m     data, fns, _ \u001b[39m=\u001b[39m _transform_pandas_df(data, enable_categorical)\n\u001b[1;32m   2509\u001b[0m     \u001b[39mif\u001b[39;00m validate_features:\n\u001b[0;32m-> 2510\u001b[0m         \u001b[39mself\u001b[39;49m\u001b[39m.\u001b[39;49m_validate_features(fns)\n\u001b[1;32m   2511\u001b[0m \u001b[39mif\u001b[39;00m _is_list(data) \u001b[39mor\u001b[39;00m _is_tuple(data):\n\u001b[1;32m   2512\u001b[0m     data \u001b[39m=\u001b[39m np\u001b[39m.\u001b[39marray(data)\n",
      "File \u001b[0;32m/opt/anaconda3/envs/ml-trading-platform/lib/python3.9/site-packages/xgboost/core.py:3075\u001b[0m, in \u001b[0;36mBooster._validate_features\u001b[0;34m(self, feature_names)\u001b[0m\n\u001b[1;32m   3069\u001b[0m \u001b[39mif\u001b[39;00m my_missing:\n\u001b[1;32m   3070\u001b[0m     msg \u001b[39m+\u001b[39m\u001b[39m=\u001b[39m (\n\u001b[1;32m   3071\u001b[0m         \u001b[39m\"\u001b[39m\u001b[39m\\n\u001b[39;00m\u001b[39mtraining data did not have the following fields: \u001b[39m\u001b[39m\"\u001b[39m\n\u001b[1;32m   3072\u001b[0m         \u001b[39m+\u001b[39m \u001b[39m\"\u001b[39m\u001b[39m, \u001b[39m\u001b[39m\"\u001b[39m\u001b[39m.\u001b[39mjoin(\u001b[39mstr\u001b[39m(s) \u001b[39mfor\u001b[39;00m s \u001b[39min\u001b[39;00m my_missing)\n\u001b[1;32m   3073\u001b[0m     )\n\u001b[0;32m-> 3075\u001b[0m \u001b[39mraise\u001b[39;00m \u001b[39mValueError\u001b[39;00m(msg\u001b[39m.\u001b[39mformat(\u001b[39mself\u001b[39m\u001b[39m.\u001b[39mfeature_names, feature_names))\n",
      "\u001b[0;31mValueError\u001b[0m: feature_names mismatch: ['HT_DCPERIOD', 'ADXR', 'BB_middle', 'STOCH_slowk', 'OBV', 'APO', 'STOCH_fastk', 'NATR', 'STOCH_slowd', 'HT_TRENDMODE', 'HT_DCPHASE', 'MINUS_DM'] ['HT_DCPERIOD', 'MEDPRICE', 'HT_DCPHASE', 'MACD_signal', 'HT_TRENDMODE', 'STOCH_fastd', 'AROON_UP', 'HT_SINE', 'MINUS_DM', 'HT_PHASOR_quadrature', 'BB_middle', 'NATR', 'ADXR', 'TYPPRICE', 'MIDPRICE', 'RSI', 'BB_lower', 'AROONOSC', 'AROON_DOWN', 'ADOSC', 'DEMA', 'PLUS_DM', 'CMO', 'AVGPRICE', 'MOM', 'ROC', 'STOCH_slowk', 'TRIMA', 'T3', 'MIDPOINT', 'SMA', 'CCI', 'STOCH_fastk']\nexpected OBV, STOCH_slowd, APO in input data\ntraining data did not have the following fields: CCI, PLUS_DM, BB_lower, TYPPRICE, MOM, AROON_DOWN, T3, HT_PHASOR_quadrature, STOCH_fastd, HT_SINE, ROC, AROONOSC, MACD_signal, RSI, CMO, MIDPRICE, MIDPOINT, DEMA, AROON_UP, SMA, AVGPRICE, ADOSC, MEDPRICE, TRIMA"
     ]
    }
   ],
   "source": [
    "from backtest_boost import backtest_xgboost\n",
    "\n",
    "# tickers = ['TSLA', 'MSFT', 'KO', 'AMZN', 'JNJ', 'JPM', 'LMT', 'NKE', 'NVDA', 'XOM']\n",
    "tickers = [\"JNJ\", \"NVDA\"]\n",
    "start_date = '2022-01-01'\n",
    "end_date = '2024-04-01'\n",
    "\n",
    "# Create a dictionary mapping each ticker to its best features\n",
    "best_features_dict = {\n",
    "    \"TSLA\": ['WCLPRICE', 'AROON_UP', 'MIDPOINT', 'TYPPRICE', 'MACD', 'BB_upper', 'MACD_hist', 'T3', 'ADX', 'SMA',\n",
    "             'PLUS_DI', 'STOCH_fastk', 'MINUS_DM', 'TEMA', 'ATR', 'STOCH_fastd', 'AROON_DOWN', 'BB_middle', 'NATR',\n",
    "             'HT_LEADSINE', 'MFI', 'OBV', 'HT_PHASOR_inphase', 'STOCH_slowd'],\n",
    "    \"MSFT\": ['STOCH_fastd', 'PLUS_DM', 'TRANGE', 'HT_TRENDMODE', 'STOCH_fastk', 'ADOSC', 'STOCH_slowd'],\n",
    "    \"KO\":   ['WCLPRICE', 'BB_lower', 'APO', 'MEDPRICE', 'HT_DCPERIOD', 'TYPPRICE', 'TRIMA', 'MACD_hist', 'T3', 'SMA', 'AVGPRICE', 'TRANGE', 'ADXR', 'HT_TRENDMODE', 'STOCH_fastk', 'STOCH_slowk', 'STOCH_slowd', 'TEMA', 'CMO', 'STOCH_fastd', 'HT_DCPHASE', 'AROON_DOWN', 'CCI', 'MFI', 'OBV', 'MACD_signal', 'MINUS_DI', 'HT_LEADSINE', 'HT_PHASOR_inphase', 'WMA'],\n",
    "    \"AMZN\": ['NATR', 'HT_DCPHASE', 'APO', 'STOCH_fastd', 'CMO', 'MIDPOINT', 'MOM', 'HT_PHASOR_quadrature', 'AROON_UP',\n",
    "             'MINUS_DM', 'AROON_DOWN', 'PLUS_DM', 'MACD_signal', 'STOCH_slowd', 'TRANGE', 'BB_lower', 'MACD_hist',\n",
    "             'ROC', 'STOCH_fastk', 'WCLPRICE', 'BB_upper', 'ADOSC', 'CCI', 'HT_DCPERIOD', 'ADX', 'STOCH_slowk',\n",
    "             'MEDPRICE', 'AVGPRICE', 'TRIMA', 'MINUS_DI', 'T3'],\n",
    "    \"JNJ\":  ['RSI', 'PLUS_DM', 'MFI', 'T3', 'TYPPRICE', 'HT_PHASOR_inphase', 'MINUS_DM', 'STOCH_fastk', 'HT_TRENDMODE', 'HT_LEADSINE', 'PLUS_DI', 'DEMA', 'BB_middle', 'AROON_DOWN', 'STOCH_slowd', 'ATR', 'TEMA', 'HT_SINE', 'MIDPRICE', 'NATR', 'MACD_hist'],\n",
    "    \"JPM\":  ['WMA', 'HT_DCPHASE', 'STOCH_fastd', 'AROON_UP', 'TEMA', 'HT_PHASOR_quadrature', 'WCLPRICE', 'NATR',\n",
    "             'ADXR', 'TYPPRICE', 'MIDPRICE', 'TRANGE', 'MACD', 'MACD_hist', 'AROONOSC', 'ADOSC', 'CMO', 'AVGPRICE',\n",
    "             'ROC', 'STOCH_slowk', 'TRIMA', 'MIDPOINT', 'STOCH_slowd', 'MFI', 'STOCH_fastk'],\n",
    "    \"LMT\":  ['NATR', 'STOCH_fastd', 'MOM', 'HT_PHASOR_quadrature', 'MFI', 'RSI', 'AROON_DOWN', 'STOCH_slowd',\n",
    "             'MACD_signal', 'TRANGE', 'DEMA', 'BB_middle', 'SMA', 'OBV', 'MIDPRICE', 'WMA', 'STOCH_fastk', 'BB_upper',\n",
    "             'ADOSC', 'AD', 'CCI', 'HT_DCPERIOD', 'ADX', 'STOCH_slowk', 'MINUS_DI', 'T3'],\n",
    "    \"NKE\":  ['NATR', 'HT_DCPHASE', 'APO', 'CMO', 'HT_TRENDMODE', 'STOCH_fastd', 'MIDPOINT', 'MACD',\n",
    "             'HT_PHASOR_quadrature', 'MFI', 'AROON_UP', 'RSI', 'AROON_DOWN', 'AROONOSC', 'STOCH_slowd', 'TRANGE',\n",
    "             'SMA', 'TEMA', 'HT_SINE', 'PLUS_DI', 'BB_lower', 'STOCH_fastk', 'MIDPRICE', 'BB_upper', 'ADX',\n",
    "             'STOCH_slowk', 'MEDPRICE', 'MINUS_DI'],\n",
    "    \"NVDA\": ['MEDPRICE', 'HT_DCPHASE', 'STOCH_fastd', 'AROON_UP', 'HT_SINE', 'APO', 'MINUS_DM', 'WCLPRICE', 'BB_upper',\n",
    "             'NATR', 'TYPPRICE', 'MIDPRICE', 'TRANGE', 'AROON_DOWN', 'DEMA', 'AVGPRICE', 'CMO', 'ROC', 'MIDPOINT',\n",
    "             'STOCH_slowk', 'TRIMA', 'T3', 'STOCH_slowd', 'CCI', 'MFI', 'OBV', 'STOCH_fastk'],\n",
    "    \"XOM\":  ['HT_DCPERIOD', 'HT_SINE', 'MINUS_DM', 'MACD_hist', 'RSI', 'TRANGE', 'CCI', 'HT_PHASOR_inphase', 'MACD',\n",
    "             'AD', 'HT_PHASOR_quadrature', 'TEMA', 'STOCH_slowd', 'T3', 'BB_upper', 'MFI', 'ADX', 'STOCH_slowk',\n",
    "             'ADOSC', 'STOCH_fastk', 'ATR', 'ROC']\n",
    "}\n",
    "\n",
    "# Dictionary to store backtest results for each ticker\n",
    "results_dict = {}\n",
    "\n",
    "for ticker in tickers:\n",
    "    best_features = best_features_dict[ticker]\n",
    "\n",
    "    backtest_metrics = backtest_xgboost(\n",
    "        ticker=ticker,\n",
    "        start_date=start_date,\n",
    "        end_date=end_date,\n",
    "        feature_subset=best_features\n",
    "    )\n",
    "\n",
    "    # Save metrics into our dictionary\n",
    "    results_dict[ticker] = backtest_metrics\n",
    "    \n",
    "    print(f\"Backtesting Metrics for {ticker}: {backtest_metrics}\")"
   ]
  }
 ],
 "metadata": {
  "kernelspec": {
   "display_name": "ml-trading-platform",
   "language": "python",
   "name": "python3"
  },
  "language_info": {
   "codemirror_mode": {
    "name": "ipython",
    "version": 3
   },
   "file_extension": ".py",
   "mimetype": "text/x-python",
   "name": "python",
   "nbconvert_exporter": "python",
   "pygments_lexer": "ipython3",
   "version": "3.9.16"
  }
 },
 "nbformat": 4,
 "nbformat_minor": 2
}
