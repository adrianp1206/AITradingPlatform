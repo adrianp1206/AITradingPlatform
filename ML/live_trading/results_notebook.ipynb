{
 "cells": [
  {
   "cell_type": "code",
   "execution_count": 1,
   "metadata": {},
   "outputs": [
    {
     "name": "stdout",
     "output_type": "stream",
     "text": [
      "Processing ticker: KO\n",
      "Processing ticker: MSFT\n",
      "Processing ticker: TSLA\n",
      "Saved 12 comparison rows to comparison_results.csv\n",
      "\n",
      "--- Overall Model Performance Metrics ---\n",
      "LSTM MAE: 15.0108, RMSE: 19.7852, Directional Accuracy: 50.00%\n",
      "XGBoost Directional Accuracy: 58.33%\n",
      "RL Directional Accuracy (excluding Hold): 37.50%\n",
      "NLP Sentiment / Return Correlation: 0.2999\n",
      "\n",
      "--- Overall Portfolio Simulation per Model (Combined across Stocks) ---\n",
      "LSTM: {'Total Profit': -6.060000000000045, 'Average Profit': -0.5050000000000038, 'Sharpe Ratio': -0.041483578642404234, 'Number of Trades': 12}\n",
      "XGBOOST: {'Total Profit': 33.29999999999997, 'Average Profit': 2.7749999999999972, 'Sharpe Ratio': 0.2344705004986017, 'Number of Trades': 12}\n",
      "RL: {'Total Profit': 20.369999999999948, 'Average Profit': 2.5462499999999935, 'Sharpe Ratio': 0.17710103969299157, 'Number of Trades': 8}\n",
      "\n",
      "--- Overall Combined Profit across Models ---\n",
      "{'LSTM': -6.060000000000045, 'XGBoost': 33.29999999999997, 'RL': 20.369999999999948}\n",
      "\n",
      "--- Per-Stock Summary by Model ---\n",
      "\n",
      "Ticker: KO\n",
      "  LSTM: {'Total Profit': 1.9899999999999949, 'Average Profit': 0.4974999999999987, 'Sharpe Ratio': 0.23637760945366434, 'Directional Accuracy (%)': 25.0, 'Number of Trades': 4}\n",
      "  XGBOOST: {'Total Profit': -5.690000000000012, 'Average Profit': -1.422500000000003, 'Sharpe Ratio': -0.990696017804463, 'Directional Accuracy (%)': 50.0, 'Number of Trades': 4}\n",
      "  RL: {'Total Profit': -3.25, 'Average Profit': -3.25, 'Sharpe Ratio': 0, 'Directional Accuracy (%)': 100.0, 'Number of Trades': 1}\n",
      "\n",
      "Ticker: MSFT\n",
      "  LSTM: {'Total Profit': -25.650000000000034, 'Average Profit': -6.4125000000000085, 'Sharpe Ratio': -1.0888698920595352, 'Directional Accuracy (%)': 100.0, 'Number of Trades': 4}\n",
      "  XGBOOST: {'Total Profit': 0.8900000000000432, 'Average Profit': 0.2225000000000108, 'Sharpe Ratio': 0.02352650545169641, 'Directional Accuracy (%)': 75.0, 'Number of Trades': 4}\n",
      "  RL: {'Total Profit': 25.55000000000001, 'Average Profit': 6.387500000000003, 'Sharpe Ratio': 1.0780140346675378, 'Directional Accuracy (%)': 25.0, 'Number of Trades': 4}\n",
      "\n",
      "Ticker: TSLA\n",
      "  LSTM: {'Total Profit': 17.599999999999994, 'Average Profit': 4.399999999999999, 'Sharpe Ratio': 0.2136033238651694, 'Directional Accuracy (%)': 25.0, 'Number of Trades': 4}\n",
      "  XGBOOST: {'Total Profit': 38.09999999999994, 'Average Profit': 9.524999999999984, 'Sharpe Ratio': 0.5250011951339705, 'Directional Accuracy (%)': 50.0, 'Number of Trades': 4}\n",
      "  RL: {'Total Profit': -1.9300000000000637, 'Average Profit': -0.6433333333333545, 'Sharpe Ratio': -0.026063819516652584, 'Directional Accuracy (%)': 33.33333333333333, 'Number of Trades': 3}\n"
     ]
    },
    {
     "ename": "ValueError",
     "evalue": "too many values to unpack (expected 3)",
     "output_type": "error",
     "traceback": [
      "\u001b[0;31m---------------------------------------------------------------------------\u001b[0m",
      "\u001b[0;31mValueError\u001b[0m                                Traceback (most recent call last)",
      "\u001b[1;32m/Users/adrianpawlowski/Documents/AITradingPlatform/ML/live_trading/results_notebook.ipynb Cell 1\u001b[0m line \u001b[0;36m3\n\u001b[1;32m      <a href='vscode-notebook-cell:/Users/adrianpawlowski/Documents/AITradingPlatform/ML/live_trading/results_notebook.ipynb#W0sZmlsZQ%3D%3D?line=0'>1</a>\u001b[0m \u001b[39mfrom\u001b[39;00m \u001b[39mresults\u001b[39;00m \u001b[39mimport\u001b[39;00m analyze_predictions\n\u001b[0;32m----> <a href='vscode-notebook-cell:/Users/adrianpawlowski/Documents/AITradingPlatform/ML/live_trading/results_notebook.ipynb#W0sZmlsZQ%3D%3D?line=2'>3</a>\u001b[0m analysis_df, model_portfolio, overall_portfolio \u001b[39m=\u001b[39m analyze_predictions(\n\u001b[1;32m      <a href='vscode-notebook-cell:/Users/adrianpawlowski/Documents/AITradingPlatform/ML/live_trading/results_notebook.ipynb#W0sZmlsZQ%3D%3D?line=3'>4</a>\u001b[0m     pred_csv\u001b[39m=\u001b[39m\u001b[39m\"\u001b[39m\u001b[39mpredictions.csv\u001b[39m\u001b[39m\"\u001b[39m,\n\u001b[1;32m      <a href='vscode-notebook-cell:/Users/adrianpawlowski/Documents/AITradingPlatform/ML/live_trading/results_notebook.ipynb#W0sZmlsZQ%3D%3D?line=4'>5</a>\u001b[0m     api_key\u001b[39m=\u001b[39m\u001b[39m\"\u001b[39m\u001b[39mNL9PDOM5JWRPAT9O\u001b[39m\u001b[39m\"\u001b[39m,\n\u001b[1;32m      <a href='vscode-notebook-cell:/Users/adrianpawlowski/Documents/AITradingPlatform/ML/live_trading/results_notebook.ipynb#W0sZmlsZQ%3D%3D?line=5'>6</a>\u001b[0m     actual_start_date\u001b[39m=\u001b[39m\u001b[39m\"\u001b[39m\u001b[39m2025-04-01\u001b[39m\u001b[39m\"\u001b[39m,  \u001b[39m# starting one day before April 2nd predictions\u001b[39;00m\n\u001b[1;32m      <a href='vscode-notebook-cell:/Users/adrianpawlowski/Documents/AITradingPlatform/ML/live_trading/results_notebook.ipynb#W0sZmlsZQ%3D%3D?line=6'>7</a>\u001b[0m     actual_end_date\u001b[39m=\u001b[39m\u001b[39m\"\u001b[39m\u001b[39m2025-04-08\u001b[39m\u001b[39m\"\u001b[39m     \u001b[39m# Only use data for dates where actual close is available (exclude April 9th if not available)\u001b[39;00m\n\u001b[1;32m      <a href='vscode-notebook-cell:/Users/adrianpawlowski/Documents/AITradingPlatform/ML/live_trading/results_notebook.ipynb#W0sZmlsZQ%3D%3D?line=7'>8</a>\u001b[0m )\n",
      "\u001b[0;31mValueError\u001b[0m: too many values to unpack (expected 3)"
     ]
    }
   ],
   "source": [
    "from results import analyze_predictions\n",
    "\n",
    "analysis_df, model_portfolio, overall_portfolio, per_stock_summary = analyze_predictions(\n",
    "    pred_csv=\"predictions.csv\",\n",
    "    api_key=\"NL9PDOM5JWRPAT9O\",\n",
    "    actual_start_date=\"2025-04-01\",  # starting one day before April 2nd predictions\n",
    "    actual_end_date=\"2025-04-08\"     # Only use data for dates where actual close is available (exclude April 9th if not available)\n",
    ")"
   ]
  }
 ],
 "metadata": {
  "kernelspec": {
   "display_name": "ml-trading-platform",
   "language": "python",
   "name": "python3"
  },
  "language_info": {
   "codemirror_mode": {
    "name": "ipython",
    "version": 3
   },
   "file_extension": ".py",
   "mimetype": "text/x-python",
   "name": "python",
   "nbconvert_exporter": "python",
   "pygments_lexer": "ipython3",
   "version": "3.9.16"
  }
 },
 "nbformat": 4,
 "nbformat_minor": 2
}
