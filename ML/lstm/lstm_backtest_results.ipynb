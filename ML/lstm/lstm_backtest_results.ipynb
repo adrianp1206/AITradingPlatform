{
 "cells": [
  {
   "cell_type": "code",
   "execution_count": null,
   "metadata": {},
   "outputs": [],
   "source": [
    "from backtest_lstm import backtest_lstm\n",
    "\n",
    "API_KEY = 'BTR4OON08VH41NYX'\n",
    "tickers = ['TSLA', 'MSFT', 'KO']\n",
    "model_paths = ['../models/lstm/lstm_TSLA_model.h5', '../models/lstm/lstm_MSFT_model.h5', '../models/lstm/lstm_KO_model.h5']\n",
    "\n",
    "for ticker, model_path in zip(tickers, model_paths):\n",
    "    backtest_lstm(ticker, model_path, api_key=API_KEY, start_date='2022-01-01', end_date='2024-01-01')\n"
   ]
  }
 ],
 "metadata": {
  "language_info": {
   "name": "python"
  }
 },
 "nbformat": 4,
 "nbformat_minor": 2
}
